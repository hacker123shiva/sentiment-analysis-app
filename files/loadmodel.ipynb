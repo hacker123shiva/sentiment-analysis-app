{
  "nbformat": 4,
  "nbformat_minor": 0,
  "metadata": {
    "colab": {
      "provenance": []
    },
    "kernelspec": {
      "name": "python3",
      "display_name": "Python 3"
    },
    "language_info": {
      "name": "python"
    }
  },
  "cells": [
    {
      "cell_type": "code",
      "execution_count": 1,
      "metadata": {
        "id": "_ovb_WAaJuso"
      },
      "outputs": [],
      "source": [
        "from flask import Flask, render_template, request\n",
        "import joblib\n",
        "from sklearn.feature_extraction.text import TfidfVectorizer\n",
        "import nltk\n",
        "from nltk.tokenize import word_tokenize\n",
        "from nltk.stem import WordNetLemmatizer\n",
        "\n",
        "\n"
      ]
    },
    {
      "cell_type": "code",
      "source": [
        "# Load the pre-trained model and vectorizer\n",
        "model = joblib.load('sentiment_model.pkl')\n",
        "vectorizer = joblib.load('vectorizer.pkl')\n",
        "\n",
        "# Set up NLTK\n",
        "nltk.download('punkt')\n",
        "nltk.download('wordnet')\n",
        "lemmatizer = WordNetLemmatizer()\n"
      ],
      "metadata": {
        "colab": {
          "base_uri": "https://localhost:8080/"
        },
        "id": "TZ2zd2Z3J6Wb",
        "outputId": "c8cce994-35c5-440c-e86b-63595b1f44d4"
      },
      "execution_count": 3,
      "outputs": [
        {
          "output_type": "stream",
          "name": "stderr",
          "text": [
            "[nltk_data] Downloading package punkt to /root/nltk_data...\n",
            "[nltk_data]   Package punkt is already up-to-date!\n",
            "[nltk_data] Downloading package wordnet to /root/nltk_data...\n",
            "[nltk_data]   Package wordnet is already up-to-date!\n"
          ]
        }
      ]
    },
    {
      "cell_type": "code",
      "source": [
        "# Preprocess text for prediction\n",
        "def preprocess_text(text):\n",
        "    tokens = word_tokenize(text.lower())\n",
        "    filtered_tokens = [lemmatizer.lemmatize(word) for word in tokens if word.isalnum()]\n",
        "    return ' '.join(filtered_tokens)\n",
        "\n",
        "\n",
        "cleaned_text = preprocess_text(\"I love you\")\n",
        "vectorized_text = vectorizer.transform([cleaned_text])\n",
        "prediction = model.predict(vectorized_text)[0]\n",
        "print(prediction)"
      ],
      "metadata": {
        "colab": {
          "base_uri": "https://localhost:8080/"
        },
        "id": "_EvwaVj1KHSs",
        "outputId": "286f5df1-f823-4acc-f728-2c54aa922b94"
      },
      "execution_count": 5,
      "outputs": [
        {
          "output_type": "stream",
          "name": "stdout",
          "text": [
            "Positive\n"
          ]
        }
      ]
    },
    {
      "cell_type": "code",
      "source": [],
      "metadata": {
        "id": "Kbkugze2KNiE"
      },
      "execution_count": null,
      "outputs": []
    }
  ]
}